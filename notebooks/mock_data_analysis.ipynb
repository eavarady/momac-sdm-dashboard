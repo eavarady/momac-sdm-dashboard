{
 "cells": [
  {
   "cell_type": "markdown",
   "id": "376aba0c",
   "metadata": {},
   "source": [
    "# Mock Data Analysis\n",
    "This notebook previews generated CSVs and computes simple KPIs."
   ]
  },
  {
   "cell_type": "code",
   "execution_count": null,
   "id": "f0400cde",
   "metadata": {},
   "outputs": [],
   "source": [
    "import pandas as pd\n",
    "from pathlib import Path\n",
    "DATA = Path('..') / 'data'\n",
    "tables = {name: pd.read_csv(DATA / f'{name}.csv') for name in [\n",
    "    'machines','production_lines','products','operators','process_steps','production_log','machine_metrics','quality_checks'\n",
    "] if (DATA / f'{name}.csv').exists()}\n",
    "{name: df.shape for name, df in tables.items()}"
   ]
  },
  {
   "cell_type": "code",
   "execution_count": null,
   "id": "785c43e1",
   "metadata": {},
   "outputs": [],
   "source": [
    "# Basic KPI: total throughput and WIP\n",
    "prod = tables.get('production_log')\n",
    "if prod is not None and not prod.empty:\n",
    "    throughput = prod['quantity'].sum()\n",
    "    wip = prod.loc[prod['status']=='in_progress','quantity'].sum()\n",
    "    throughput, wip\n",
    "else:\n",
    "    'No production_log data'"
   ]
  }
 ],
 "metadata": {
  "language_info": {
   "name": "python"
  }
 },
 "nbformat": 4,
 "nbformat_minor": 5
}
